{
 "cells": [
  {
   "cell_type": "code",
   "execution_count": null,
   "metadata": {},
   "outputs": [],
   "source": [
    "%pip install pandas\n",
    "%pip install langchain_community"
   ]
  },
  {
   "cell_type": "code",
   "execution_count": null,
   "metadata": {},
   "outputs": [],
   "source": [
    "import pandas as pd\n",
    "from langchain_community.llms import Ollama"
   ]
  },
  {
   "cell_type": "code",
   "execution_count": null,
   "metadata": {},
   "outputs": [],
   "source": [
    "llm = Ollama(model=\"risk_analizer_3.1\")\n",
    "llm.invoke(\"Pérdida, hurto o deterioro de un activo por un acceso no autorizado al área del Archivo\")"
   ]
  },
  {
   "cell_type": "code",
   "execution_count": null,
   "metadata": {},
   "outputs": [],
   "source": [
    "df = pd.read_csv('data.csv')\n",
    "df"
   ]
  },
  {
   "cell_type": "code",
   "execution_count": null,
   "metadata": {},
   "outputs": [],
   "source": [
    "def categorizar_riesgo(risk, model=\"risk_analizer_llama3\",contador=0, palabrasMaximas=2, largoMaximo=30):\n",
    "    llm = Ollama(model=model)\n",
    "    response = llm.invoke(risk).split(\"\\n\")[0]\n",
    "    \n",
    "    if contador > 3:\n",
    "        return \"No se pudo generar una respuesta\" \n",
    "\n",
    "    if len(response.split(\" \")) > palabrasMaximas:\n",
    "        print(f\"Respuesta mayor a {palabrasMaximas} palabras: Contador: {contador} - {risk} - {response}\")\n",
    "        return categorizar_riesgo(risk, model=model, contador=contador+1, palabrasMaximas=palabrasMaximas, largoMaximo=largoMaximo)\n",
    "    \n",
    "    if len(response) > largoMaximo:\n",
    "        print(f\"Respuesta muy larga: Contador: {contador} - {risk} - {response}\")\n",
    "        return categorizar_riesgo(risk, model=model, contador=contador+1, palabrasMaximas=palabrasMaximas, largoMaximo=largoMaximo)\n",
    "    \n",
    "    valoresMalos = [\"alto\", \"bajo\", \"falso\"]\n",
    "    if any(valor in response.lower() for valor in valoresMalos):\n",
    "        print(f\"Respuesta tiene valores que no coinciden: Contador: {contador} - {risk} - {response}\")\n",
    "        return categorizar_riesgo(risk, model=model, contador=contador+1, palabrasMaximas=palabrasMaximas, largoMaximo=largoMaximo)\n",
    "\n",
    "    # Limpieza de caracteres no deseados\n",
    "    response = response.replace(\"*\", \"\").replace(\".\", \"\").replace(\":\", \"\").replace('\"', \"\").title()\n",
    "    \n",
    "    print(f\"Respuesta normal: {response}\")\n",
    "    return response\n",
    "    \n"
   ]
  },
  {
   "cell_type": "code",
   "execution_count": null,
   "metadata": {},
   "outputs": [],
   "source": [
    "# Leer archivo\n",
    "df = pd.read_csv('data_clasificada_v2.csv')\n",
    "# recorrer la columna de riesgos y categorizar el riesgo\n",
    "for i in range(len(df)):\n",
    "    \n",
    "    # Categorizar el riesgo\n",
    "    resultado = categorizar_riesgo(df[\"Riesgo\"][i], model=\"risk_analizer_description_llama3\", palabrasMaximas=15, largoMaximo=50)\n",
    "    \n",
    "    #Guardar la clasificacion en una nueva columna\n",
    "    df.loc[i, \"Descripción\"] = resultado\n",
    "    \n",
    "# Imprimir el dataframe con la nueva columna\n",
    "df\n",
    "\n",
    "# Guardar los resultados en un nuevo archivo\n",
    "df.to_csv('data_clasificada_v3.csv', index=False)"
   ]
  },
  {
   "cell_type": "code",
   "execution_count": null,
   "metadata": {},
   "outputs": [],
   "source": []
  },
  {
   "cell_type": "code",
   "execution_count": null,
   "metadata": {},
   "outputs": [],
   "source": [
    "# Generar un archivo solo con las clasificaciones\n",
    "df_clasificacion = df[\"Clasificación\"]\n",
    "df_clasificacion.to_csv('clasificacion.csv', index=False)\n",
    "\n",
    "# Leer el archivo con las clasificaciones y agregarlo a un string\n",
    "clasificacion = \"\"\n",
    "with open('clasificacion.csv', 'r') as file:\n",
    "    clasificacion = file.read()\n",
    "    \n",
    "clasificacion\n",
    "\n",
    "# Enviarlo al modelo para que lo clasifique\n",
    "llm = Ollama(model=\"llama3\")\n",
    "response = llm.invoke(\"Analizar todas las categorias de riesgo y crear 10 categorias generales en las que se puedan clasificar cada una de esas subclasificaciones \" + clasificacion)\n",
    "response = response.split(\"\\n\")\n",
    "response\n"
   ]
  },
  {
   "cell_type": "code",
   "execution_count": null,
   "metadata": {},
   "outputs": [],
   "source": [
    "# Crear una categoria macro para cada categoria\n",
    "df = pd.read_csv('data_clasificada.csv')\n",
    "# recorrer la columna de riesgos y categorizar el riesgo\n",
    "for i in range(len(df)):\n",
    "    \n",
    "    # Categorización\n",
    "    resultado = categorizar_riesgo(df[\"Clasificación\"][i], model=\"risk_analizer_macro_llama3\")\n",
    "    \n",
    "    #Guardar la clasificacion en una nueva columna\n",
    "    df.loc[i, \"Clasificación_Macro\"] = resultado\n",
    "    \n",
    "# Imprimir el dataframe con la nueva columna\n",
    "df\n",
    "\n",
    "# Guardar los resultados en un nuevo archivo\n",
    "df.to_csv('data_final.csv', index=False)"
   ]
  }
 ],
 "metadata": {
  "kernelspec": {
   "display_name": ".venv",
   "language": "python",
   "name": "python3"
  },
  "language_info": {
   "codemirror_mode": {
    "name": "ipython",
    "version": 3
   },
   "file_extension": ".py",
   "mimetype": "text/x-python",
   "name": "python",
   "nbconvert_exporter": "python",
   "pygments_lexer": "ipython3",
   "version": "3.12.3"
  }
 },
 "nbformat": 4,
 "nbformat_minor": 2
}
